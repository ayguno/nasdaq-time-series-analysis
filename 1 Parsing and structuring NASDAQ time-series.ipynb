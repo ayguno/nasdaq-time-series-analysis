{
 "cells": [
  {
   "cell_type": "markdown",
   "metadata": {},
   "source": [
    "## Parsing and Structuring Time-Series from NASDAQ\n",
    "\n",
    "Here the goal is to combine and tidy the individual time-series obtained from NASDAQ along with relevant metadata for further analysis."
   ]
  },
  {
   "cell_type": "code",
   "execution_count": 19,
   "metadata": {
    "scrolled": true
   },
   "outputs": [],
   "source": [
    "import pandas as pd\n",
    "import numpy as np\n",
    "import json\n",
    "import os \n",
    "with open(\"config.json\",\"r\") as f:\n",
    "    config = json.load(f)\n",
    "    \n",
    "# Read list of files    \n",
    "list_of_data = os.listdir(config[\"data_dir\"])\n",
    "list_of_df = [pd.read_csv(config[\"data_dir\"] + \"/\" + x)\\\n",
    "                                        for x in list_of_data]\n",
    "\n",
    "for i in range(len(list_of_data)): \n",
    "    list_of_df[i][\"Symbol\"] = list_of_data[i][:-4] # Add ticker symbols\n",
    "    list_of_df[i]['Date'] = pd.to_datetime(list_of_df[i]['Date'], # Format date column\n",
    "                                          infer_datetime_format=True)\n",
    "    try:## CONTINUE HERE: Make string processing of $ sign more efficient using a vector op. ##\n",
    "        list_of_df[i]['Close/Last'] = [pd.to_numeric(x[1:]) for x in list_of_df[i]['Close/Last']]\n",
    "        list_of_df[i]['Open'] = [pd.to_numeric(x[1:]) for x in list_of_df[i]['Open']]\n",
    "        list_of_df[i]['High'] = [pd.to_numeric(x[1:]) for x in list_of_df[i]['High']]\n",
    "        list_of_df[i]['Low'] = [pd.to_numeric(x[1:]) for x in list_of_df[i]['Low']]\n",
    "    except:\n",
    "        pass\n",
    "ts_data = pd.concat(list_of_df)# Rbind\n"
   ]
  },
  {
   "cell_type": "code",
   "execution_count": 20,
   "metadata": {},
   "outputs": [
    {
     "name": "stdout",
     "output_type": "stream",
     "text": [
      "<class 'pandas.core.frame.DataFrame'>\n",
      "Int64Index: 2877788 entries, 0 to 1258\n",
      "Data columns (total 7 columns):\n",
      "Date          datetime64[ns]\n",
      "Close/Last    float64\n",
      "Volume        float64\n",
      "Open          float64\n",
      "High          float64\n",
      "Low           float64\n",
      "Symbol        object\n",
      "dtypes: datetime64[ns](1), float64(5), object(1)\n",
      "memory usage: 175.6+ MB\n"
     ]
    }
   ],
   "source": [
    "ts_data.info()"
   ]
  },
  {
   "cell_type": "code",
   "execution_count": 1,
   "metadata": {},
   "outputs": [],
   "source": [
    "%qtconsole"
   ]
  }
 ],
 "metadata": {
  "kernelspec": {
   "display_name": "Python 3",
   "language": "python",
   "name": "python3"
  },
  "language_info": {
   "codemirror_mode": {
    "name": "ipython",
    "version": 3
   },
   "file_extension": ".py",
   "mimetype": "text/x-python",
   "name": "python",
   "nbconvert_exporter": "python",
   "pygments_lexer": "ipython3",
   "version": "3.6.4"
  },
  "toc": {
   "base_numbering": 1,
   "nav_menu": {},
   "number_sections": true,
   "sideBar": true,
   "skip_h1_title": false,
   "title_cell": "Table of Contents",
   "title_sidebar": "Contents",
   "toc_cell": false,
   "toc_position": {},
   "toc_section_display": true,
   "toc_window_display": false
  },
  "varInspector": {
   "cols": {
    "lenName": 16,
    "lenType": 16,
    "lenVar": 40
   },
   "kernels_config": {
    "python": {
     "delete_cmd_postfix": "",
     "delete_cmd_prefix": "del ",
     "library": "var_list.py",
     "varRefreshCmd": "print(var_dic_list())"
    },
    "r": {
     "delete_cmd_postfix": ") ",
     "delete_cmd_prefix": "rm(",
     "library": "var_list.r",
     "varRefreshCmd": "cat(var_dic_list()) "
    }
   },
   "types_to_exclude": [
    "module",
    "function",
    "builtin_function_or_method",
    "instance",
    "_Feature"
   ],
   "window_display": false
  }
 },
 "nbformat": 4,
 "nbformat_minor": 2
}
