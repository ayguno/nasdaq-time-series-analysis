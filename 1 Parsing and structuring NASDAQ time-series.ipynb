{
 "cells": [
  {
   "cell_type": "markdown",
   "metadata": {},
   "source": [
    "## Parsing and Structuring Time-Series from NASDAQ\n",
    "\n",
    "Here the goal is to combine and tidy the individual time-series obtained from NASDAQ along with relevant metadata for further analysis."
   ]
  },
  {
   "cell_type": "code",
   "execution_count": 2,
   "metadata": {
    "scrolled": true
   },
   "outputs": [
    {
     "name": "stderr",
     "output_type": "stream",
     "text": [
      "100%|█████████████████████████████████████████████████████████████████████████████| 3833/3833 [00:25<00:00, 144.16it/s]\n"
     ]
    }
   ],
   "source": [
    "import pandas as pd\n",
    "import numpy as np\n",
    "import json\n",
    "import os \n",
    "from tqdm import tqdm\n",
    "\n",
    "with open(\"config.json\",\"r\") as f:\n",
    "    config = json.load(f)\n",
    "    \n",
    "# Read list of files    \n",
    "list_of_data = os.listdir(config[\"data_dir\"])\n",
    "list_of_df = [pd.read_csv(config[\"data_dir\"] + \"/\" + x)\\\n",
    "                                        for x in list_of_data]\n",
    "\n",
    "for i in tqdm(range(len(list_of_data))): \n",
    "    list_of_df[i][\"Symbol\"] = list_of_data[i][:-4] # Add ticker symbols\n",
    "    list_of_df[i]['Date'] = pd.to_datetime(list_of_df[i]['Date'], # Format date column\n",
    "                                          infer_datetime_format=True)\n",
    "    try:\n",
    "        list_of_df[i]['Close/Last'] = pd.to_numeric(list_of_df[i]['Close/Last'].str.replace(\"\\\\$\",\"\"))\n",
    "        list_of_df[i]['Open'] = pd.to_numeric(list_of_df[i]['Open'].str.replace(\"\\\\$\",\"\"))\n",
    "        list_of_df[i]['High'] = pd.to_numeric(list_of_df[i]['High'].str.replace(\"\\\\$\",\"\"))\n",
    "        list_of_df[i]['Low'] = pd.to_numeric(list_of_df[i]['Low'].str.replace(\"\\\\$\",\"\"))\n",
    "    except:\n",
    "        pass\n",
    "    \n",
    "ts_data = pd.concat(list_of_df)# Rbind\n",
    "# Add meta data\n",
    "ts_data = pd.merge(ts_data,\n",
    "                   pd.read_csv(config['metadata'])[['Symbol',\n",
    "                                                    'Name',\n",
    "                                                    'Market Cap',\n",
    "                                                    'Country',\n",
    "                                                    'IPO Year',\n",
    "                                                    'Sector',\n",
    "                                                    'Industry'\n",
    "                                                   ]]\n",
    "                   ,on = \"Symbol\")"
   ]
  },
  {
   "cell_type": "code",
   "execution_count": 3,
   "metadata": {},
   "outputs": [
    {
     "name": "stdout",
     "output_type": "stream",
     "text": [
      "<class 'pandas.core.frame.DataFrame'>\n",
      "Int64Index: 2870346 entries, 0 to 2870345\n",
      "Data columns (total 13 columns):\n",
      "Date          datetime64[ns]\n",
      "Close/Last    float64\n",
      "Volume        float64\n",
      "Open          float64\n",
      "High          float64\n",
      "Low           float64\n",
      "Symbol        object\n",
      "Name          object\n",
      "Market Cap    float64\n",
      "Country       object\n",
      "IPO Year      float64\n",
      "Sector        object\n",
      "Industry      object\n",
      "dtypes: datetime64[ns](1), float64(7), object(5)\n",
      "memory usage: 306.6+ MB\n"
     ]
    }
   ],
   "source": [
    "ts_data.info()"
   ]
  },
  {
   "cell_type": "code",
   "execution_count": 4,
   "metadata": {
    "scrolled": true
   },
   "outputs": [
    {
     "name": "stdout",
     "output_type": "stream",
     "text": [
      "[nan 'Health Care' 'Transportation' 'Finance' 'Technology' 'Capital Goods'\n",
      " 'Consumer Durables' 'Miscellaneous' 'Basic Industries'\n",
      " 'Consumer Services' 'Public Utilities' 'Energy' 'Consumer Non-Durables']\n",
      "[nan 'Biotechnology: Pharmaceutical Preparations'\n",
      " 'Air Freight/Delivery Services' 'Life Insurance' 'Semiconductors'\n",
      " 'Industrial Machinery/Components' 'Computer Manufacturing'\n",
      " 'Transportation Services' 'Major Banks' 'Business Services'\n",
      " 'Biotechnology: In Vitro & In Vivo Diagnostic Substances'\n",
      " 'Medical/Dental Instruments'\n",
      " 'Biotechnology: Biological Products (No Diagnostic Substances)'\n",
      " 'Hospital/Nursing Management' 'EDP Services' 'Specialty Chemicals'\n",
      " 'Specialty Insurers' 'Multi-Sector Companies'\n",
      " 'Computer Software: Prepackaged Software' 'Industrial Specialties'\n",
      " 'Telecommunications Equipment' 'Medical/Nursing Services' 'Advertising'\n",
      " 'Electrical Products' 'Building operators'\n",
      " 'Diversified Commercial Services' 'Electric Utilities: Central'\n",
      " 'Environmental Services' 'Television Services'\n",
      " 'Recreational Products/Toys' 'Other Pharmaceuticals'\n",
      " 'Real Estate Investment Trusts'\n",
      " 'Biotechnology: Electromedical & Electrotherapeutic Apparatus'\n",
      " 'Military/Government/Technical' 'Finance/Investors Services'\n",
      " 'Radio And Television Broadcasting And Communications Equipment'\n",
      " 'Medical Specialities' 'Computer peripheral equipment'\n",
      " 'Metal Fabrications' 'Commercial Banks' 'Oil & Gas Production'\n",
      " 'Broadcasting' 'Managed Health Care' 'Investment Bankers/Brokers/Service'\n",
      " 'Office Equipment/Supplies/Services' 'Accident &Health Insurance'\n",
      " 'Oilfield Services/Equipment' 'Building Products'\n",
      " 'Catalog/Specialty Distribution' 'Tobacco' 'Other Consumer Services'\n",
      " 'Farming/Seeds/Milling' 'Trucking Freight/Courier Services'\n",
      " 'Wholesale Distributors' 'Food Chains' 'Restaurants' 'Coal Mining'\n",
      " 'Water Supply' 'Aerospace' 'Construction/Ag Equipment/Trucks'\n",
      " 'Finance: Consumer Services' 'Electronic Components'\n",
      " 'Biotechnology: Commercial Physical & Biological Resarch'\n",
      " 'Biotechnology: Laboratory Analytical Instruments' 'Savings Institutions'\n",
      " 'Trusts Except Educational Religious and Charitable'\n",
      " 'Movies/Entertainment' 'Other Specialty Stores' 'Professional Services'\n",
      " 'Investment Managers' 'Precision Instruments'\n",
      " 'Retail: Computer Software & Peripheral Equipment' 'Shoe Manufacturing'\n",
      " 'Diversified Manufacture' 'Specialty Foods' 'Consumer Specialties'\n",
      " 'Home Furnishings' 'Rental/Leasing Companies' 'Banks'\n",
      " 'Pollution Control Equipment' 'Beverages (Production/Distribution)'\n",
      " 'Aluminum' 'Finance Companies' 'Services-Misc. Amusement & Recreation'\n",
      " 'Food Distributors' 'Oil Refining/Marketing' 'Property-Casualty Insurers'\n",
      " 'Natural Gas Distribution' 'Hotels/Resorts' 'Apparel'\n",
      " 'Consumer Electronics/Video Chains' 'Department/Specialty Retail Stores'\n",
      " 'Diversified Financial Services' 'Publishing' 'Real Estate' 'Railroads'\n",
      " 'Homebuilding' 'Auto Parts:O.E.M.' 'Newspapers/Magazines'\n",
      " 'Clothing/Shoe/Accessory Stores' 'Books' 'Marine Transportation'\n",
      " 'Auto Manufacturing' 'Computer Software: Programming Data Processing'\n",
      " 'Package Goods/Cosmetics' 'Power Generation' 'Ophthalmic Goods'\n",
      " 'Internet and Information Services' 'Motor Vehicles' 'Major Chemicals'\n",
      " 'Automotive Aftermarket' 'Assisted Living Services'\n",
      " 'Consumer Electronics/Appliances' 'Engineering & Construction'\n",
      " 'Service to the Health Industry' 'Medical Electronics' 'Steel/Iron Ore'\n",
      " 'Precious Metals' 'Ordnance And Accessories' 'Packaged Foods'\n",
      " 'Plastic Products' 'Meat/Poultry/Fish' 'EDP Peripherals'\n",
      " 'Oil/Gas Transmission' 'Containers/Packaging' 'Agricultural Chemicals'\n",
      " 'Building Materials' 'Electronics Distribution' 'Forest Products'\n",
      " 'Other Metals and Minerals']\n"
     ]
    }
   ],
   "source": [
    "# Unique sectors in the data\n",
    "print (ts_data['Sector'].unique())\n",
    "# Unique industries\n",
    "print(ts_data['Industry'].unique())"
   ]
  },
  {
   "cell_type": "code",
   "execution_count": 20,
   "metadata": {},
   "outputs": [
    {
     "name": "stdout",
     "output_type": "stream",
     "text": [
      "2021-12-10 00:00:00 - 2016-12-05 00:00:00\n"
     ]
    }
   ],
   "source": [
    "# Date range\n",
    "print(ts_data['Date'].max(),\"-\",ts_data['Date'].min())"
   ]
  },
  {
   "cell_type": "code",
   "execution_count": null,
   "metadata": {},
   "outputs": [
    {
     "name": "stderr",
     "output_type": "stream",
     "text": [
      "  0%|                                                                                         | 0/3822 [00:00<?, ?it/s]C:\\Users\\OZAN\\Anaconda3\\lib\\site-packages\\ipykernel_launcher.py:9: SettingWithCopyWarning: \n",
      "A value is trying to be set on a copy of a slice from a DataFrame.\n",
      "Try using .loc[row_indexer,col_indexer] = value instead\n",
      "\n",
      "See the caveats in the documentation: http://pandas.pydata.org/pandas-docs/stable/indexing.html#indexing-view-versus-copy\n",
      "  if __name__ == '__main__':\n",
      " 40%|██████████████████████████████▉                                               | 1513/3822 [06:07<08:58,  4.29it/s]"
     ]
    }
   ],
   "source": [
    "from tqdm import tqdm\n",
    "# add % valuation change for a given ticker\n",
    "tickers = ts_data['Symbol'].unique()\n",
    "def calculate_perc_change(ticker):\n",
    "    x = ts_data[ts_data['Symbol'] == ticker]\n",
    "    price_diff = -1 * np.diff(x['Close/Last'])\n",
    "    price_diff_perc = 100 * (price_diff / x['Close/Last'][1:])\n",
    "    price_diff_perc = np.append(price_diff_perc,0)\n",
    "    x['price_diff_perc'] = price_diff_perc\n",
    "    return x\n",
    "ts_data_expand = [calculate_perc_change(ticker) for ticker in tqdm(tickers)]\n",
    "ts_data_expand = pd.concat(ts_data_expand)    "
   ]
  },
  {
   "cell_type": "code",
   "execution_count": 49,
   "metadata": {},
   "outputs": [
    {
     "ename": "ModuleNotFoundError",
     "evalue": "No module named 'tqdm'",
     "output_type": "error",
     "traceback": [
      "\u001b[1;31m---------------------------------------------------------------------------\u001b[0m",
      "\u001b[1;31mModuleNotFoundError\u001b[0m                       Traceback (most recent call last)",
      "\u001b[1;32m<ipython-input-49-decf43e5741c>\u001b[0m in \u001b[0;36m<module>\u001b[1;34m()\u001b[0m\n\u001b[1;32m----> 1\u001b[1;33m \u001b[1;32mfrom\u001b[0m \u001b[0mtqdm\u001b[0m \u001b[1;32mimport\u001b[0m \u001b[0mtqdm\u001b[0m\u001b[1;33m\u001b[0m\u001b[0m\n\u001b[0m",
      "\u001b[1;31mModuleNotFoundError\u001b[0m: No module named 'tqdm'"
     ]
    }
   ],
   "source": []
  },
  {
   "cell_type": "code",
   "execution_count": 50,
   "metadata": {},
   "outputs": [
    {
     "data": {
      "text/plain": [
       "'EYPT'"
      ]
     },
     "execution_count": 50,
     "metadata": {},
     "output_type": "execute_result"
    }
   ],
   "source": [
    "tickers[1234]"
   ]
  },
  {
   "cell_type": "code",
   "execution_count": 1,
   "metadata": {},
   "outputs": [],
   "source": [
    "%qtconsole"
   ]
  }
 ],
 "metadata": {
  "kernelspec": {
   "display_name": "Python 3",
   "language": "python",
   "name": "python3"
  },
  "language_info": {
   "codemirror_mode": {
    "name": "ipython",
    "version": 3
   },
   "file_extension": ".py",
   "mimetype": "text/x-python",
   "name": "python",
   "nbconvert_exporter": "python",
   "pygments_lexer": "ipython3",
   "version": "3.6.4"
  },
  "toc": {
   "base_numbering": 1,
   "nav_menu": {},
   "number_sections": true,
   "sideBar": true,
   "skip_h1_title": false,
   "title_cell": "Table of Contents",
   "title_sidebar": "Contents",
   "toc_cell": false,
   "toc_position": {},
   "toc_section_display": true,
   "toc_window_display": false
  },
  "varInspector": {
   "cols": {
    "lenName": 16,
    "lenType": 16,
    "lenVar": 40
   },
   "kernels_config": {
    "python": {
     "delete_cmd_postfix": "",
     "delete_cmd_prefix": "del ",
     "library": "var_list.py",
     "varRefreshCmd": "print(var_dic_list())"
    },
    "r": {
     "delete_cmd_postfix": ") ",
     "delete_cmd_prefix": "rm(",
     "library": "var_list.r",
     "varRefreshCmd": "cat(var_dic_list()) "
    }
   },
   "types_to_exclude": [
    "module",
    "function",
    "builtin_function_or_method",
    "instance",
    "_Feature"
   ],
   "window_display": false
  }
 },
 "nbformat": 4,
 "nbformat_minor": 2
}
